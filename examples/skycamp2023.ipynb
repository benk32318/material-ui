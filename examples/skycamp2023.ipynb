{
  "cells": [
    {
      "cell_type": "markdown",
      "metadata": {
        "id": "MAGgm44iri2c"
      },
      "source": [
        "<img src=\"https://github.com/stanfordnlp/dspy/blob/main/docs/docs/static/img/dspy_logo.png?raw=1\" alt=\"DSPy7 Image\" height=\"150\"/>\n",
        "\n",
        "# DSPy: Tutorial @ SkyCamp"
      ]
    },
    {
      "cell_type": "markdown",
      "metadata": {
        "id": "y5-1csAari2e"
      },
      "source": [
        "This notebook contains the **DSPy tutorial** for **SkyCamp 2023**.\n",
        "\n",
        "Let's begin by setting things up. The snippet below will also install **DSPy** if it's not there already."
      ]
    },
    {
      "cell_type": "code",
      "execution_count": 3,
      "metadata": {
        "id": "e-0zjD6rri2e",
        "outputId": "e223ab63-cbd9-4867-9e7d-54e850f946e8",
        "colab": {
          "base_uri": "https://localhost:8080/"
        }
      },
      "outputs": [
        {
          "output_type": "stream",
          "name": "stdout",
          "text": [
            "The autoreload extension is already loaded. To reload it, use:\n",
            "  %reload_ext autoreload\n",
            "Already up to date.\n",
            "Requirement already satisfied: pip in /usr/local/lib/python3.10/dist-packages (24.3.1)\n",
            "Requirement already satisfied: dspy-ai==2.1 in /usr/local/lib/python3.10/dist-packages (2.1.0)\n",
            "Requirement already satisfied: backoff<=2.2.1 in /usr/local/lib/python3.10/dist-packages (from dspy-ai==2.1) (2.2.1)\n",
            "Requirement already satisfied: joblib<=1.3.2 in /usr/local/lib/python3.10/dist-packages (from dspy-ai==2.1) (1.3.2)\n",
            "Requirement already satisfied: openai<=0.28.1 in /usr/local/lib/python3.10/dist-packages (from dspy-ai==2.1) (0.28.1)\n",
            "Requirement already satisfied: pandas<=2.1.1 in /usr/local/lib/python3.10/dist-packages (from dspy-ai==2.1) (2.1.1)\n",
            "Requirement already satisfied: regex<=2023.10.3 in /usr/local/lib/python3.10/dist-packages (from dspy-ai==2.1) (2023.10.3)\n",
            "Requirement already satisfied: ujson<=5.8.0 in /usr/local/lib/python3.10/dist-packages (from dspy-ai==2.1) (5.8.0)\n",
            "Requirement already satisfied: tqdm<=4.66.1 in /usr/local/lib/python3.10/dist-packages (from dspy-ai==2.1) (4.66.1)\n",
            "Requirement already satisfied: datasets<=2.14.6 in /usr/local/lib/python3.10/dist-packages (from dspy-ai==2.1) (2.14.6)\n",
            "Requirement already satisfied: requests<=2.31.0 in /usr/local/lib/python3.10/dist-packages (from dspy-ai==2.1) (2.31.0)\n",
            "Requirement already satisfied: optuna<=3.4.0 in /usr/local/lib/python3.10/dist-packages (from dspy-ai==2.1) (3.4.0)\n",
            "Requirement already satisfied: numpy>=1.17 in /usr/local/lib/python3.10/dist-packages (from datasets<=2.14.6->dspy-ai==2.1) (1.26.4)\n",
            "Requirement already satisfied: pyarrow>=8.0.0 in /usr/local/lib/python3.10/dist-packages (from datasets<=2.14.6->dspy-ai==2.1) (17.0.0)\n",
            "Requirement already satisfied: dill<0.3.8,>=0.3.0 in /usr/local/lib/python3.10/dist-packages (from datasets<=2.14.6->dspy-ai==2.1) (0.3.7)\n",
            "Requirement already satisfied: xxhash in /usr/local/lib/python3.10/dist-packages (from datasets<=2.14.6->dspy-ai==2.1) (3.5.0)\n",
            "Requirement already satisfied: multiprocess in /usr/local/lib/python3.10/dist-packages (from datasets<=2.14.6->dspy-ai==2.1) (0.70.15)\n",
            "Requirement already satisfied: fsspec<=2023.10.0,>=2023.1.0 in /usr/local/lib/python3.10/dist-packages (from fsspec[http]<=2023.10.0,>=2023.1.0->datasets<=2.14.6->dspy-ai==2.1) (2023.10.0)\n",
            "Requirement already satisfied: aiohttp in /usr/local/lib/python3.10/dist-packages (from datasets<=2.14.6->dspy-ai==2.1) (3.10.10)\n",
            "Requirement already satisfied: huggingface-hub<1.0.0,>=0.14.0 in /usr/local/lib/python3.10/dist-packages (from datasets<=2.14.6->dspy-ai==2.1) (0.26.2)\n",
            "Requirement already satisfied: packaging in /usr/local/lib/python3.10/dist-packages (from datasets<=2.14.6->dspy-ai==2.1) (24.2)\n",
            "Requirement already satisfied: pyyaml>=5.1 in /usr/local/lib/python3.10/dist-packages (from datasets<=2.14.6->dspy-ai==2.1) (6.0.2)\n",
            "Requirement already satisfied: alembic>=1.5.0 in /usr/local/lib/python3.10/dist-packages (from optuna<=3.4.0->dspy-ai==2.1) (1.14.0)\n",
            "Requirement already satisfied: colorlog in /usr/local/lib/python3.10/dist-packages (from optuna<=3.4.0->dspy-ai==2.1) (6.9.0)\n",
            "Requirement already satisfied: sqlalchemy>=1.3.0 in /usr/local/lib/python3.10/dist-packages (from optuna<=3.4.0->dspy-ai==2.1) (2.0.36)\n",
            "Requirement already satisfied: python-dateutil>=2.8.2 in /usr/local/lib/python3.10/dist-packages (from pandas<=2.1.1->dspy-ai==2.1) (2.8.2)\n",
            "Requirement already satisfied: pytz>=2020.1 in /usr/local/lib/python3.10/dist-packages (from pandas<=2.1.1->dspy-ai==2.1) (2024.2)\n",
            "Requirement already satisfied: tzdata>=2022.1 in /usr/local/lib/python3.10/dist-packages (from pandas<=2.1.1->dspy-ai==2.1) (2024.2)\n",
            "Requirement already satisfied: charset-normalizer<4,>=2 in /usr/local/lib/python3.10/dist-packages (from requests<=2.31.0->dspy-ai==2.1) (3.4.0)\n",
            "Requirement already satisfied: idna<4,>=2.5 in /usr/local/lib/python3.10/dist-packages (from requests<=2.31.0->dspy-ai==2.1) (3.10)\n",
            "Requirement already satisfied: urllib3<3,>=1.21.1 in /usr/local/lib/python3.10/dist-packages (from requests<=2.31.0->dspy-ai==2.1) (2.2.3)\n",
            "Requirement already satisfied: certifi>=2017.4.17 in /usr/local/lib/python3.10/dist-packages (from requests<=2.31.0->dspy-ai==2.1) (2024.8.30)\n",
            "Requirement already satisfied: Mako in /usr/local/lib/python3.10/dist-packages (from alembic>=1.5.0->optuna<=3.4.0->dspy-ai==2.1) (1.3.6)\n",
            "Requirement already satisfied: typing-extensions>=4 in /usr/local/lib/python3.10/dist-packages (from alembic>=1.5.0->optuna<=3.4.0->dspy-ai==2.1) (4.12.2)\n",
            "Requirement already satisfied: aiohappyeyeballs>=2.3.0 in /usr/local/lib/python3.10/dist-packages (from aiohttp->datasets<=2.14.6->dspy-ai==2.1) (2.4.3)\n",
            "Requirement already satisfied: aiosignal>=1.1.2 in /usr/local/lib/python3.10/dist-packages (from aiohttp->datasets<=2.14.6->dspy-ai==2.1) (1.3.1)\n",
            "Requirement already satisfied: attrs>=17.3.0 in /usr/local/lib/python3.10/dist-packages (from aiohttp->datasets<=2.14.6->dspy-ai==2.1) (24.2.0)\n",
            "Requirement already satisfied: frozenlist>=1.1.1 in /usr/local/lib/python3.10/dist-packages (from aiohttp->datasets<=2.14.6->dspy-ai==2.1) (1.5.0)\n",
            "Requirement already satisfied: multidict<7.0,>=4.5 in /usr/local/lib/python3.10/dist-packages (from aiohttp->datasets<=2.14.6->dspy-ai==2.1) (6.1.0)\n",
            "Requirement already satisfied: yarl<2.0,>=1.12.0 in /usr/local/lib/python3.10/dist-packages (from aiohttp->datasets<=2.14.6->dspy-ai==2.1) (1.17.1)\n",
            "Requirement already satisfied: async-timeout<5.0,>=4.0 in /usr/local/lib/python3.10/dist-packages (from aiohttp->datasets<=2.14.6->dspy-ai==2.1) (4.0.3)\n",
            "Requirement already satisfied: filelock in /usr/local/lib/python3.10/dist-packages (from huggingface-hub<1.0.0,>=0.14.0->datasets<=2.14.6->dspy-ai==2.1) (3.16.1)\n",
            "Requirement already satisfied: six>=1.5 in /usr/local/lib/python3.10/dist-packages (from python-dateutil>=2.8.2->pandas<=2.1.1->dspy-ai==2.1) (1.16.0)\n",
            "Requirement already satisfied: greenlet!=0.4.17 in /usr/local/lib/python3.10/dist-packages (from sqlalchemy>=1.3.0->optuna<=3.4.0->dspy-ai==2.1) (3.1.1)\n",
            "Requirement already satisfied: propcache>=0.2.0 in /usr/local/lib/python3.10/dist-packages (from yarl<2.0,>=1.12.0->aiohttp->datasets<=2.14.6->dspy-ai==2.1) (0.2.0)\n",
            "Requirement already satisfied: MarkupSafe>=0.9.2 in /usr/local/lib/python3.10/dist-packages (from Mako->alembic>=1.5.0->optuna<=3.4.0->dspy-ai==2.1) (3.0.2)\n",
            "Requirement already satisfied: transformers in /usr/local/lib/python3.10/dist-packages (4.46.2)\n",
            "Requirement already satisfied: filelock in /usr/local/lib/python3.10/dist-packages (from transformers) (3.16.1)\n",
            "Requirement already satisfied: huggingface-hub<1.0,>=0.23.2 in /usr/local/lib/python3.10/dist-packages (from transformers) (0.26.2)\n",
            "Requirement already satisfied: numpy>=1.17 in /usr/local/lib/python3.10/dist-packages (from transformers) (1.26.4)\n",
            "Requirement already satisfied: packaging>=20.0 in /usr/local/lib/python3.10/dist-packages (from transformers) (24.2)\n",
            "Requirement already satisfied: pyyaml>=5.1 in /usr/local/lib/python3.10/dist-packages (from transformers) (6.0.2)\n",
            "Requirement already satisfied: regex!=2019.12.17 in /usr/local/lib/python3.10/dist-packages (from transformers) (2023.10.3)\n",
            "Requirement already satisfied: requests in /usr/local/lib/python3.10/dist-packages (from transformers) (2.31.0)\n",
            "Requirement already satisfied: safetensors>=0.4.1 in /usr/local/lib/python3.10/dist-packages (from transformers) (0.4.5)\n",
            "Requirement already satisfied: tokenizers<0.21,>=0.20 in /usr/local/lib/python3.10/dist-packages (from transformers) (0.20.3)\n",
            "Requirement already satisfied: tqdm>=4.27 in /usr/local/lib/python3.10/dist-packages (from transformers) (4.66.1)\n",
            "Requirement already satisfied: fsspec>=2023.5.0 in /usr/local/lib/python3.10/dist-packages (from huggingface-hub<1.0,>=0.23.2->transformers) (2023.10.0)\n",
            "Requirement already satisfied: typing-extensions>=3.7.4.3 in /usr/local/lib/python3.10/dist-packages (from huggingface-hub<1.0,>=0.23.2->transformers) (4.12.2)\n",
            "Requirement already satisfied: charset-normalizer<4,>=2 in /usr/local/lib/python3.10/dist-packages (from requests->transformers) (3.4.0)\n",
            "Requirement already satisfied: idna<4,>=2.5 in /usr/local/lib/python3.10/dist-packages (from requests->transformers) (3.10)\n",
            "Requirement already satisfied: urllib3<3,>=1.21.1 in /usr/local/lib/python3.10/dist-packages (from requests->transformers) (2.2.3)\n",
            "Requirement already satisfied: certifi>=2017.4.17 in /usr/local/lib/python3.10/dist-packages (from requests->transformers) (2024.8.30)\n"
          ]
        }
      ],
      "source": [
        "%load_ext autoreload\n",
        "%autoreload 2\n",
        "\n",
        "import sys\n",
        "import os\n",
        "\n",
        "try: # When on google Colab, let's clone the notebook so we download the cache.\n",
        "    import google.colab  # noqa: F401\n",
        "    repo_path = 'dspy'\n",
        "    !git -C $repo_path pull origin || git clone https://github.com/stanfordnlp/dspy $repo_path\n",
        "except:\n",
        "    repo_path = '.'\n",
        "\n",
        "if repo_path not in sys.path:\n",
        "    sys.path.append(repo_path)\n",
        "\n",
        "# Set up the cache for this notebook\n",
        "os.environ[\"DSP_NOTEBOOK_CACHEDIR\"] = os.path.join(repo_path, 'cache')\n",
        "\n",
        "import pkg_resources # Install the package if it's not installed\n",
        "if \"dspy-ai\" not in {pkg.key for pkg in pkg_resources.working_set}:\n",
        "    !pip install -U pip\n",
        "    !pip install dspy-ai==2.1\n",
        "    # !pip install -e $repo_path\n",
        "\n",
        "!pip install transformers"
      ]
    },
    {
      "cell_type": "code",
      "execution_count": null,
      "metadata": {
        "id": "HGtm6zdqri2f"
      },
      "outputs": [],
      "source": [
        "import dspy\n",
        "from dspy.evaluate import Evaluate\n",
        "from dspy.teleprompt import BootstrapFewShot, BootstrapFewShotWithRandomSearch"
      ]
    },
    {
      "cell_type": "markdown",
      "metadata": {
        "id": "PiXkCRTOri2g"
      },
      "source": [
        "### 1) Configure the default LM and retriever\n",
        "\n",
        "We'll start by setting up the language model (LM) and retrieval model (RM). **DSPy** supports multiple API and local models.\n",
        "\n",
        "In this notebook, we will use `Llama2-13b-chat` using the HuggingFace TGI serving software infrastructure. In principle you can run this on your own local GPUs, but for this tutorial all examples are pre-cached so you don't need to worry about cost.\n",
        "\n",
        "We will use the retriever `ColBERTv2`. To make things easy, we've set up a ColBERTv2 server hosting a Wikipedia 2017 \"abstracts\" search index (i.e., containing first paragraph of each article from this [2017 dump](https://hotpotqa.github.io/wiki-readme.html)), so you don't need to worry about setting one up! It's free.\n",
        "\n",
        "**Note:** _If you run this notebook as instructed, you don't need an API key. All examples are already cached internally so you can inspect them!_"
      ]
    },
    {
      "cell_type": "code",
      "execution_count": null,
      "metadata": {
        "id": "vNI6zn4Xri2g"
      },
      "outputs": [],
      "source": [
        "llama = dspy.HFClientTGI(model=\"meta-llama/Llama-2-13b-chat-hf\", port=[7140, 7141, 7142, 7143], max_tokens=150)\n",
        "colbertv2 = dspy.ColBERTv2(url='http://20.102.90.50:2017/wiki17_abstracts')\n",
        "\n",
        "# # NOTE: After you finish this notebook, you can use GPT-3.5 like this if you like.\n",
        "# turbo = dspy.OpenAI(model='gpt-3.5-turbo-instruct')\n",
        "# # In that case, make sure to configure lm=turbo below if you choose to do that.\n",
        "\n",
        "dspy.settings.configure(rm=colbertv2, lm=llama)"
      ]
    },
    {
      "cell_type": "markdown",
      "metadata": {
        "id": "yceZR3Vqri2g"
      },
      "source": [
        "### 2) Create a few question–answer pairs for our task"
      ]
    },
    {
      "cell_type": "code",
      "execution_count": null,
      "metadata": {
        "id": "BaKOABu9ri2h"
      },
      "outputs": [],
      "source": [
        "train = [('Who was the director of the 2009 movie featuring Peter Outerbridge as William Easton?', 'Kevin Greutert'),\n",
        "         ('The heir to the Du Pont family fortune sponsored what wrestling team?', 'Foxcatcher'),\n",
        "         ('In what year was the star of To Hell and Back born?', '1925'),\n",
        "         ('Which award did the first book of Gary Zukav receive?', 'U.S. National Book Award'),\n",
        "         ('What documentary about the Gilgo Beach Killer debuted on A&E?', 'The Killing Season'),\n",
        "         ('Which author is English: John Braine or Studs Terkel?', 'John Braine'),\n",
        "         ('Who produced the album that included a re-recording of \"Lithium\"?', 'Butch Vig')]\n",
        "\n",
        "train = [dspy.Example(question=question, answer=answer).with_inputs('question') for question, answer in train]"
      ]
    },
    {
      "cell_type": "code",
      "execution_count": null,
      "metadata": {
        "id": "6YbC4evZri2h"
      },
      "outputs": [],
      "source": [
        "dev = [('Who has a broader scope of profession: E. L. Doctorow or Julia Peterkin?', 'E. L. Doctorow'),\n",
        "       ('Right Back At It Again contains lyrics co-written by the singer born in what city?', 'Gainesville, Florida'),\n",
        "       ('What year was the party of the winner of the 1971 San Francisco mayoral election founded?', '1828'),\n",
        "       ('Anthony Dirrell is the brother of which super middleweight title holder?', 'Andre Dirrell'),\n",
        "       ('The sports nutrition business established by Oliver Cookson is based in which county in the UK?', 'Cheshire'),\n",
        "       ('Find the birth date of the actor who played roles in First Wives Club and Searching for the Elephant.', 'February 13, 1980'),\n",
        "       ('Kyle Moran was born in the town on what river?', 'Castletown River'),\n",
        "       (\"The actress who played the niece in the Priest film was born in what city, country?\", 'Surrey, England'),\n",
        "       ('Name the movie in which the daughter of Noel Harrison plays Violet Trefusis.', 'Portrait of a Marriage'),\n",
        "       ('What year was the father of the Princes in the Tower born?', '1442'),\n",
        "       ('What river is near the Crichton Collegiate Church?', 'the River Tyne'),\n",
        "       ('Who purchased the team Michael Schumacher raced for in the 1995 Monaco Grand Prix in 2000?', 'Renault'),\n",
        "       ('André Zucca was a French photographer who worked with a German propaganda magazine published by what Nazi organization?', 'the Wehrmacht')]\n",
        "\n",
        "dev = [dspy.Example(question=question, answer=answer).with_inputs('question') for question, answer in dev]"
      ]
    },
    {
      "cell_type": "markdown",
      "metadata": {
        "id": "uCptbeRpri2i"
      },
      "source": [
        "### 3) Key Concepts: Signatures & Modules"
      ]
    },
    {
      "cell_type": "code",
      "execution_count": null,
      "metadata": {
        "id": "XX4wMBKfri2i"
      },
      "outputs": [],
      "source": [
        "# Define a dspy.Predict module with the signature `question -> answer` (i.e., takes a question and outputs an answer).\n",
        "predict = dspy.Predict('question -> answer')\n",
        "\n",
        "# Use the module!\n",
        "predict(question=\"What is the capital of Germany?\")"
      ]
    },
    {
      "cell_type": "markdown",
      "metadata": {
        "id": "LP5JPpfyri2i"
      },
      "source": [
        "In the example above, we used the `dspy.Predict` module **zero-shot**, i.e. without compiling it on any examples.\n",
        "\n",
        "Let's now build a slightly more advanced program. Our program will use the `dspy.ChainOfThought` module, which asks the LM to think step by step.\n",
        "\n",
        "We will call this program `CoT`."
      ]
    },
    {
      "cell_type": "code",
      "execution_count": null,
      "metadata": {
        "id": "iVQPrEQDri2i"
      },
      "outputs": [],
      "source": [
        "class CoT(dspy.Module):  # let's define a new module\n",
        "    def __init__(self):\n",
        "        super().__init__()\n",
        "\n",
        "        # here we declare the chain of thought sub-module, so we can later compile it (e.g., teach it a prompt)\n",
        "        self.generate_answer = dspy.ChainOfThought('question -> answer')\n",
        "\n",
        "    def forward(self, question):\n",
        "        return self.generate_answer(question=question)  # here we use the module"
      ]
    },
    {
      "cell_type": "markdown",
      "metadata": {
        "id": "rxNWn0X8ri2i"
      },
      "source": [
        "Now let's compile this using our seven `train` examples. We will use the very simple `BootstrapFewShot` in DSPy."
      ]
    },
    {
      "cell_type": "code",
      "execution_count": null,
      "metadata": {
        "id": "mgFbV_TJri2i"
      },
      "outputs": [],
      "source": [
        "metric_EM = dspy.evaluate.answer_exact_match\n",
        "\n",
        "teleprompter = BootstrapFewShot(metric=metric_EM, max_bootstrapped_demos=2)\n",
        "cot_compiled = teleprompter.compile(CoT(), trainset=train)"
      ]
    },
    {
      "cell_type": "markdown",
      "metadata": {
        "id": "GbbJNYlbri2j"
      },
      "source": [
        "Let's ask a question to this new program."
      ]
    },
    {
      "cell_type": "code",
      "execution_count": 1,
      "metadata": {
        "id": "EQ9QGCndri2j",
        "outputId": "aecd0bc6-fe00-4319-e023-2418b2dc7908",
        "colab": {
          "base_uri": "https://localhost:8080/",
          "height": 141
        }
      },
      "outputs": [
        {
          "output_type": "error",
          "ename": "NameError",
          "evalue": "name 'cot_compiled' is not defined",
          "traceback": [
            "\u001b[0;31m---------------------------------------------------------------------------\u001b[0m",
            "\u001b[0;31mNameError\u001b[0m                                 Traceback (most recent call last)",
            "\u001b[0;32m<ipython-input-1-1139598939cd>\u001b[0m in \u001b[0;36m<cell line: 1>\u001b[0;34m()\u001b[0m\n\u001b[0;32m----> 1\u001b[0;31m \u001b[0mcot_compiled\u001b[0m\u001b[0;34m(\u001b[0m\u001b[0;34m\"What is the capital of Germany?\"\u001b[0m\u001b[0;34m)\u001b[0m\u001b[0;34m\u001b[0m\u001b[0;34m\u001b[0m\u001b[0m\n\u001b[0m",
            "\u001b[0;31mNameError\u001b[0m: name 'cot_compiled' is not defined"
          ]
        }
      ],
      "source": [
        "cot_compiled(\"What is the capital of Germany?\")"
      ]
    },
    {
      "cell_type": "markdown",
      "metadata": {
        "id": "C4cz1Qpsri2j"
      },
      "source": [
        "You might be curious what's happening under the hood. Let's inspect the last call to our Llama LM to see the prompt and the output."
      ]
    },
    {
      "cell_type": "code",
      "execution_count": null,
      "metadata": {
        "id": "rGxkgrRpri2j"
      },
      "outputs": [],
      "source": [
        "llama.inspect_history(n=1)"
      ]
    },
    {
      "cell_type": "markdown",
      "metadata": {
        "id": "okxMkBUxri2j"
      },
      "source": [
        "Notice how the prompt ends with the question we asked (\"What is the capital of Germany?\"), but before that it includes few-shot examples.\n",
        "\n",
        "The final example in the prompt contains a rationale (step-by-step reasoning) self-generated from the LM for use as a demonstration, for the training question \"Which author is English: John Braine or Studs Terkel?\".\n",
        "\n",
        "Now, let's evaluate on our development set."
      ]
    },
    {
      "cell_type": "code",
      "execution_count": null,
      "metadata": {
        "id": "IdBofM5Dri2k"
      },
      "outputs": [],
      "source": [
        "NUM_THREADS = 32\n",
        "evaluate_hotpot = Evaluate(devset=dev, metric=metric_EM, num_threads=NUM_THREADS, display_progress=True, display_table=15)"
      ]
    },
    {
      "cell_type": "markdown",
      "metadata": {
        "id": "OtQgjSn7ri2k"
      },
      "source": [
        "First, let's evaluate the compiled `CoT` program with Llama. Feel free to replace `cot_compiled` below with `CoT()` (notice the paranthesis) to test the zero-shot version of CoT."
      ]
    },
    {
      "cell_type": "code",
      "execution_count": null,
      "metadata": {
        "id": "iz80h1SCri2k"
      },
      "outputs": [],
      "source": [
        "evaluate_hotpot(cot_compiled)"
      ]
    },
    {
      "cell_type": "markdown",
      "metadata": {
        "id": "axZCbTHuri2k"
      },
      "source": [
        "### 4) Bonus 1: RAG with query generation\n",
        "\n",
        "As a bonus, let's define a more sophisticated program called `RAG`. This program will:\n",
        "\n",
        "- Use the LM to generate a search query based on the input question\n",
        "- Retrieve three passages using our retriever\n",
        "- Use the LM to generate a final answer using these passages"
      ]
    },
    {
      "cell_type": "code",
      "execution_count": null,
      "metadata": {
        "id": "QagIZiG3ri2k"
      },
      "outputs": [],
      "source": [
        "class RAG(dspy.Module):\n",
        "    def __init__(self, num_passages=3):\n",
        "        super().__init__()\n",
        "\n",
        "        # declare three modules: the retriever, a query generator, and an answer generator\n",
        "        self.retrieve = dspy.Retrieve(k=num_passages)\n",
        "        self.generate_query = dspy.ChainOfThought(\"question -> search_query\")\n",
        "        self.generate_answer = dspy.ChainOfThought(\"context, question -> answer\")\n",
        "\n",
        "    def forward(self, question):\n",
        "        # generate a search query from the question, and use it to retrieve passages\n",
        "        search_query = self.generate_query(question=question).search_query\n",
        "        passages = self.retrieve(search_query).passages\n",
        "\n",
        "        # generate an answer from the passages and the question\n",
        "        return self.generate_answer(context=passages, question=question)"
      ]
    },
    {
      "cell_type": "markdown",
      "metadata": {
        "id": "jalG-VWGri2k"
      },
      "source": [
        "Out of curiosity, we can evaluate the **uncompiled** (or **zero-shot**) version of this program."
      ]
    },
    {
      "cell_type": "code",
      "execution_count": null,
      "metadata": {
        "id": "h5LcUJ84ri2k"
      },
      "outputs": [],
      "source": [
        "evaluate_hotpot(RAG(), display_table=0)"
      ]
    },
    {
      "cell_type": "markdown",
      "metadata": {
        "id": "fjYsWoMuri2l"
      },
      "source": [
        "Let's now compile this RAG program. We'll use a slightly more advanced teleprompter (automatic prompt optimizer) this time, which relies on random search."
      ]
    },
    {
      "cell_type": "code",
      "execution_count": null,
      "metadata": {
        "id": "UXfqGPi5ri2l"
      },
      "outputs": [],
      "source": [
        "teleprompter2 = BootstrapFewShotWithRandomSearch(metric=metric_EM, max_bootstrapped_demos=2, num_candidate_programs=8, num_threads=NUM_THREADS)\n",
        "rag_compiled = teleprompter2.compile(RAG(), trainset=train, valset=dev)"
      ]
    },
    {
      "cell_type": "markdown",
      "metadata": {
        "id": "e2339TCkri2l"
      },
      "source": [
        "Let's now evaluate this compiled version of RAG."
      ]
    },
    {
      "cell_type": "code",
      "execution_count": null,
      "metadata": {
        "id": "wYH59Jz2ri2l"
      },
      "outputs": [],
      "source": [
        "evaluate_hotpot(rag_compiled)"
      ]
    },
    {
      "cell_type": "markdown",
      "metadata": {
        "id": "RiflnHOcri2l"
      },
      "source": [
        "Let's inspect one of the LM calls for this. Focus in particular on the structure of the last few input/output examples in the prompt."
      ]
    },
    {
      "cell_type": "code",
      "execution_count": null,
      "metadata": {
        "id": "1yH1KUrCri2l"
      },
      "outputs": [],
      "source": [
        "rag_compiled(\"What year was the party of the winner of the 1971 San Francisco mayoral election founded?\")\n",
        "llama.inspect_history(n=1)"
      ]
    },
    {
      "cell_type": "markdown",
      "metadata": {
        "id": "hB8V2-PZri2l"
      },
      "source": [
        "### 4) Bonus 2: Multi-Hop Retrieval and Reasoning"
      ]
    },
    {
      "cell_type": "markdown",
      "metadata": {
        "id": "ts1HH9e2ri2l"
      },
      "source": [
        "Let's now build a simple multi-hop program, which will interleave multiple calls to the LM and the retriever.\n",
        "\n",
        "Please follow the **TODO** instructions below to implement this."
      ]
    },
    {
      "cell_type": "code",
      "execution_count": null,
      "metadata": {
        "id": "2gOMscpZri2l"
      },
      "outputs": [],
      "source": [
        "from dsp.utils.utils import deduplicate\n",
        "\n",
        "class MultiHop(dspy.Module):\n",
        "    def __init__(self, num_passages=3):\n",
        "        super().__init__()\n",
        "\n",
        "        self.retrieve = dspy.Retrieve(k=num_passages)\n",
        "        self.generate_query = dspy.ChainOfThought(\"question -> search_query\")\n",
        "\n",
        "        # TODO: Define a dspy.ChainOfThought module with the signature 'context, question -> search_query'.\n",
        "        self.generate_query_from_context = None\n",
        "\n",
        "        self.generate_answer = dspy.ChainOfThought(\"context, question -> answer\")\n",
        "\n",
        "    def forward(self, question):\n",
        "        passages = []\n",
        "\n",
        "        search_query = self.generate_query(question=question).search_query\n",
        "        passages += self.retrieve(search_query).passages\n",
        "\n",
        "        # TODO: Replace `None` with a call to self.generate_query_from_context to generate a search query.\n",
        "        # Note: In DSPy, always pass keyword arguments (e.g., context=..., question=...) to the modules to avoid ambiguity.\n",
        "        # Note 2: Don't forget to access the field .search_query to extract that from the output of the module.\n",
        "        # Note 3: Check the following notebook for a completed example: https://github.com/stanfordnlp/dspy/blob/main/skycamp2023_completed.ipynb.\n",
        "        search_query2 = None\n",
        "\n",
        "        # TODO: Replace `None` with a call to self.retrieve to retrieve passages. Append them to the list `passages`.\n",
        "        passages += None\n",
        "\n",
        "        return self.generate_answer(context=deduplicate(passages), question=question)"
      ]
    },
    {
      "cell_type": "code",
      "execution_count": null,
      "metadata": {
        "id": "3eKAEOmxri2m"
      },
      "outputs": [],
      "source": [
        "multihop_compiled = teleprompter2.compile(MultiHop(), trainset=train, valset=dev)"
      ]
    },
    {
      "cell_type": "code",
      "execution_count": null,
      "metadata": {
        "id": "DCwiMhwSri2m"
      },
      "outputs": [],
      "source": [
        "evaluate_hotpot(multihop_compiled, devset=dev)"
      ]
    },
    {
      "cell_type": "markdown",
      "metadata": {
        "id": "0E4Ke3IXri2m"
      },
      "source": [
        "Let's now inspect the prompt for the second-hop search query for one of the questions."
      ]
    },
    {
      "cell_type": "code",
      "execution_count": null,
      "metadata": {
        "id": "e0_2wT-0ri2p"
      },
      "outputs": [],
      "source": [
        "multihop_compiled(question=\"Who purchased the team Michael Schumacher raced for in the 1995 Monaco Grand Prix in 2000?\")\n",
        "llama.inspect_history(n=1, skip=2)"
      ]
    },
    {
      "cell_type": "code",
      "execution_count": null,
      "metadata": {
        "id": "JyLuBQkKri2p"
      },
      "outputs": [],
      "source": []
    }
  ],
  "metadata": {
    "kernelspec": {
      "display_name": "py39_aug2023_dspy",
      "language": "python",
      "name": "python3"
    },
    "language_info": {
      "codemirror_mode": {
        "name": "ipython",
        "version": 3
      },
      "file_extension": ".py",
      "mimetype": "text/x-python",
      "name": "python",
      "nbconvert_exporter": "python",
      "pygments_lexer": "ipython3",
      "version": "3.9.17"
    },
    "orig_nbformat": 4,
    "colab": {
      "provenance": []
    }
  },
  "nbformat": 4,
  "nbformat_minor": 0
}